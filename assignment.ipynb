{
  "nbformat": 4,
  "nbformat_minor": 0,
  "metadata": {
    "colab": {
      "name": "assignment.ipynb",
      "provenance": [],
      "authorship_tag": "ABX9TyORSTF5Cob6KaSgoTxZcgUF",
      "include_colab_link": true
    },
    "kernelspec": {
      "name": "python3",
      "display_name": "Python 3"
    },
    "language_info": {
      "name": "python"
    }
  },
  "cells": [
    {
      "cell_type": "markdown",
      "metadata": {
        "id": "view-in-github",
        "colab_type": "text"
      },
      "source": [
        "<a href=\"https://colab.research.google.com/github/JJYCode/CE888/blob/main/assignment.ipynb\" target=\"_parent\"><img src=\"https://colab.research.google.com/assets/colab-badge.svg\" alt=\"Open In Colab\"/></a>"
      ]
    },
    {
      "cell_type": "markdown",
      "metadata": {
        "id": "BCIAjeUgQ5oh"
      },
      "source": [
        "**Import Libaries**"
      ]
    },
    {
      "cell_type": "code",
      "metadata": {
        "id": "HH-Suxx4Q56v"
      },
      "source": [
        "import pandas as pd\n",
        "import numpy as np\n",
        "import seaborn as sns                       #visualisation\n",
        "import matplotlib.pyplot as plt             #visualisation\n",
        "import aif360\n",
        "import glob\n",
        "%matplotlib inline     \n",
        "sns.set(color_codes=True)"
      ],
      "execution_count": null,
      "outputs": []
    },
    {
      "cell_type": "markdown",
      "metadata": {
        "id": "_2G0tWBfL0GL"
      },
      "source": [
        "***Upload Files***"
      ]
    },
    {
      "cell_type": "code",
      "metadata": {
        "id": "Rsan7W2lL0lb",
        "colab": {
          "resources": {
            "http://localhost:8080/nbextensions/google.colab/files.js": {
              "data": "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",
              "ok": true,
              "headers": [
                [
                  "content-type",
                  "application/javascript"
                ]
              ],
              "status": 200,
              "status_text": ""
            }
          },
          "base_uri": "https://localhost:8080/",
          "height": 39
        },
        "outputId": "bc03d836-98ec-421a-f5d9-5a0d608e3bca"
      },
      "source": [
        "from google.colab import files\n",
        "uploaded = files.upload()\n"
      ],
      "execution_count": null,
      "outputs": [
        {
          "output_type": "display_data",
          "data": {
            "text/html": [
              "\n",
              "     <input type=\"file\" id=\"files-1cd130b5-c9aa-4376-96c0-2e14d88e405c\" name=\"files[]\" multiple disabled\n",
              "        style=\"border:none\" />\n",
              "     <output id=\"result-1cd130b5-c9aa-4376-96c0-2e14d88e405c\">\n",
              "      Upload widget is only available when the cell has been executed in the\n",
              "      current browser session. Please rerun this cell to enable.\n",
              "      </output>\n",
              "      <script src=\"/nbextensions/google.colab/files.js\"></script> "
            ],
            "text/plain": [
              "<IPython.core.display.HTML object>"
            ]
          },
          "metadata": {
            "tags": []
          }
        }
      ]
    },
    {
      "cell_type": "markdown",
      "metadata": {
        "id": "CoYtUl1JLyPa"
      },
      "source": [
        "**Read cvs**"
      ]
    },
    {
      "cell_type": "code",
      "metadata": {
        "id": "DOuzQP1rJ-mQ"
      },
      "source": [
        "names = ['avon-and-somerset','bedfordshire','btp','cambridgeshire','cheshire','city-of-london','cleveland',\n",
        "          'cumbria','derbyshire','devon-and-cornwall','dorset','durham','dyfed-powys','essex','gloucestershire',\n",
        "          'greater-manchester','gwent','hampshire','hertfordshire','humberside','kent','lancashire',\n",
        "          'leicestershire','lincolnshire','merseyside','metropolitan','norfolk','northamptonshire','northumbria',\n",
        "          'north-wales','north-yorkshire','nottinghamshire','south-wales','south-yorkshire','staffordshire',\n",
        "          'suffolk','surrey','sussex','thames-valley','warwickshire','west-mercia','west-midlands',\n",
        "          'west-yorkshire','wiltshire']\n",
        "\n",
        "dates = ['2020-01','2020-02','2020-03','2020-04','2020-05','2020-05','2020-06','2020-07','2020-08','2020-09',\n",
        "        '2020-10','2020-11','2020-12','2021-01','2021-02']\n",
        "k = 0\n",
        "df = pd.DataFrame()\n",
        "for d in dates:\n",
        "  for n in names:\n",
        "    filename = d + n + '.csv'\n",
        "    try:\n",
        "      temp = pd.read_csv(filename)\n",
        "      df = df.append(temp, ignore_index = True).copy()\n",
        "      print(filename)\n",
        "    except FileNotFoundError:\n",
        "      k = k + 1"
      ],
      "execution_count": null,
      "outputs": []
    },
    {
      "cell_type": "markdown",
      "metadata": {
        "id": "gIdhlgFwLQv9"
      },
      "source": [
        "**Copy Data**"
      ]
    },
    {
      "cell_type": "code",
      "metadata": {
        "colab": {
          "base_uri": "https://localhost:8080/"
        },
        "id": "QgKYy-2QUr-E",
        "outputId": "5316b16f-19f3-478d-87f4-fe2414612509"
      },
      "source": [
        "df_all = df.copy()\n",
        "print(df.shape)"
      ],
      "execution_count": null,
      "outputs": [
        {
          "output_type": "stream",
          "text": [
            "(553519, 29)\n"
          ],
          "name": "stdout"
        }
      ]
    },
    {
      "cell_type": "markdown",
      "metadata": {
        "id": "G5RtAM9SXUDu"
      },
      "source": [
        "**Check Stats**"
      ]
    },
    {
      "cell_type": "code",
      "metadata": {
        "colab": {
          "base_uri": "https://localhost:8080/"
        },
        "id": "rcx-EKnELQgg",
        "outputId": "1bcc28a2-6590-4bac-8b2f-100471cfdda1"
      },
      "source": [
        "df.dtypes"
      ],
      "execution_count": null,
      "outputs": [
        {
          "output_type": "execute_result",
          "data": {
            "text/plain": [
              "Crime ID                                                                                                                      object\n",
              "Month                                                                                                                         object\n",
              "Reported by                                                                                                                   object\n",
              "Falls within                                                                                                                  object\n",
              "Longitude                                                                                                                    float64\n",
              "Latitude                                                                                                                     float64\n",
              "Location                                                                                                                      object\n",
              "LSOA code                                                                                                                     object\n",
              "LSOA name                                                                                                                     object\n",
              "Crime type                                                                                                                    object\n",
              "Last outcome category                                                                                                         object\n",
              "Context                                                                                                                      float64\n",
              "Measure                                                                                                                       object\n",
              "Time                                                                                                                          object\n",
              "Time_type                                                                                                                     object\n",
              "Ethnicity                                                                                                                     object\n",
              "Ethnicity_type                                                                                                                object\n",
              "Gender                                                                                                                        object\n",
              "Gender_type                                                                                                                   object\n",
              "Age_Group                                                                                                                     object\n",
              "Age_Group_type                                                                                                                object\n",
              "Geography                                                                                                                     object\n",
              "Geography_type                                                                                                                object\n",
              "Number of arrests                                                                                                             object\n",
              "Population by ethnicity, gender, and PFA (based on 2011 Census)                                                               object\n",
              "Rate per 1,000 population by ethnicity, gender, and PFA                                                                       object\n",
              "Proportion of arrests of this ethnicity, in this year, of this gender and in this police force area (excludes unreported)     object\n",
              "Notes                                                                                                                         object\n",
              "Rate per 1,000 people                                                                                                        float64\n",
              "dtype: object"
            ]
          },
          "metadata": {
            "tags": []
          },
          "execution_count": 155
        }
      ]
    },
    {
      "cell_type": "markdown",
      "metadata": {
        "id": "KAxqMU2qS0V6"
      },
      "source": [
        "**Summary Stat**"
      ]
    },
    {
      "cell_type": "code",
      "metadata": {
        "colab": {
          "base_uri": "https://localhost:8080/",
          "height": 736
        },
        "id": "I3PDuOZ8S52P",
        "outputId": "4a33712a-8fc4-4634-cf2a-6a3a0ef97c46"
      },
      "source": [
        "df.head(5)"
      ],
      "execution_count": null,
      "outputs": [
        {
          "output_type": "execute_result",
          "data": {
            "text/html": [
              "<div>\n",
              "<style scoped>\n",
              "    .dataframe tbody tr th:only-of-type {\n",
              "        vertical-align: middle;\n",
              "    }\n",
              "\n",
              "    .dataframe tbody tr th {\n",
              "        vertical-align: top;\n",
              "    }\n",
              "\n",
              "    .dataframe thead th {\n",
              "        text-align: right;\n",
              "    }\n",
              "</style>\n",
              "<table border=\"1\" class=\"dataframe\">\n",
              "  <thead>\n",
              "    <tr style=\"text-align: right;\">\n",
              "      <th></th>\n",
              "      <th>Crime ID</th>\n",
              "      <th>Month</th>\n",
              "      <th>Reported by</th>\n",
              "      <th>Falls within</th>\n",
              "      <th>Longitude</th>\n",
              "      <th>Latitude</th>\n",
              "      <th>Location</th>\n",
              "      <th>LSOA code</th>\n",
              "      <th>LSOA name</th>\n",
              "      <th>Crime type</th>\n",
              "      <th>Last outcome category</th>\n",
              "      <th>Context</th>\n",
              "      <th>Measure</th>\n",
              "      <th>Time</th>\n",
              "      <th>Time_type</th>\n",
              "      <th>Ethnicity</th>\n",
              "      <th>Ethnicity_type</th>\n",
              "      <th>Gender</th>\n",
              "      <th>Gender_type</th>\n",
              "      <th>Age_Group</th>\n",
              "      <th>Age_Group_type</th>\n",
              "      <th>Geography</th>\n",
              "      <th>Geography_type</th>\n",
              "      <th>Number of arrests</th>\n",
              "      <th>Population by ethnicity, gender, and PFA (based on 2011 Census)</th>\n",
              "      <th>Rate per 1,000 population by ethnicity, gender, and PFA</th>\n",
              "      <th>Proportion of arrests of this ethnicity, in this year, of this gender and in this police force area (excludes unreported)</th>\n",
              "      <th>Notes</th>\n",
              "      <th>Rate per 1,000 people</th>\n",
              "    </tr>\n",
              "  </thead>\n",
              "  <tbody>\n",
              "    <tr>\n",
              "      <th>0</th>\n",
              "      <td>NaN</td>\n",
              "      <td>2021-01</td>\n",
              "      <td>Avon and Somerset Constabulary</td>\n",
              "      <td>Avon and Somerset Constabulary</td>\n",
              "      <td>-2.511761</td>\n",
              "      <td>51.409966</td>\n",
              "      <td>On or near Caernarvon Close</td>\n",
              "      <td>E01014399</td>\n",
              "      <td>Bath and North East Somerset 001A</td>\n",
              "      <td>Anti-social behaviour</td>\n",
              "      <td>NaN</td>\n",
              "      <td>NaN</td>\n",
              "      <td>NaN</td>\n",
              "      <td>NaN</td>\n",
              "      <td>NaN</td>\n",
              "      <td>NaN</td>\n",
              "      <td>NaN</td>\n",
              "      <td>NaN</td>\n",
              "      <td>NaN</td>\n",
              "      <td>NaN</td>\n",
              "      <td>NaN</td>\n",
              "      <td>NaN</td>\n",
              "      <td>NaN</td>\n",
              "      <td>NaN</td>\n",
              "      <td>NaN</td>\n",
              "      <td>NaN</td>\n",
              "      <td>NaN</td>\n",
              "      <td>NaN</td>\n",
              "      <td>NaN</td>\n",
              "    </tr>\n",
              "    <tr>\n",
              "      <th>1</th>\n",
              "      <td>NaN</td>\n",
              "      <td>2021-01</td>\n",
              "      <td>Avon and Somerset Constabulary</td>\n",
              "      <td>Avon and Somerset Constabulary</td>\n",
              "      <td>-2.494870</td>\n",
              "      <td>51.422276</td>\n",
              "      <td>On or near Conference/Exhibition Centre</td>\n",
              "      <td>E01014399</td>\n",
              "      <td>Bath and North East Somerset 001A</td>\n",
              "      <td>Anti-social behaviour</td>\n",
              "      <td>NaN</td>\n",
              "      <td>NaN</td>\n",
              "      <td>NaN</td>\n",
              "      <td>NaN</td>\n",
              "      <td>NaN</td>\n",
              "      <td>NaN</td>\n",
              "      <td>NaN</td>\n",
              "      <td>NaN</td>\n",
              "      <td>NaN</td>\n",
              "      <td>NaN</td>\n",
              "      <td>NaN</td>\n",
              "      <td>NaN</td>\n",
              "      <td>NaN</td>\n",
              "      <td>NaN</td>\n",
              "      <td>NaN</td>\n",
              "      <td>NaN</td>\n",
              "      <td>NaN</td>\n",
              "      <td>NaN</td>\n",
              "      <td>NaN</td>\n",
              "    </tr>\n",
              "    <tr>\n",
              "      <th>2</th>\n",
              "      <td>NaN</td>\n",
              "      <td>2021-01</td>\n",
              "      <td>Avon and Somerset Constabulary</td>\n",
              "      <td>Avon and Somerset Constabulary</td>\n",
              "      <td>-2.516919</td>\n",
              "      <td>51.423683</td>\n",
              "      <td>On or near A4175</td>\n",
              "      <td>E01014399</td>\n",
              "      <td>Bath and North East Somerset 001A</td>\n",
              "      <td>Anti-social behaviour</td>\n",
              "      <td>NaN</td>\n",
              "      <td>NaN</td>\n",
              "      <td>NaN</td>\n",
              "      <td>NaN</td>\n",
              "      <td>NaN</td>\n",
              "      <td>NaN</td>\n",
              "      <td>NaN</td>\n",
              "      <td>NaN</td>\n",
              "      <td>NaN</td>\n",
              "      <td>NaN</td>\n",
              "      <td>NaN</td>\n",
              "      <td>NaN</td>\n",
              "      <td>NaN</td>\n",
              "      <td>NaN</td>\n",
              "      <td>NaN</td>\n",
              "      <td>NaN</td>\n",
              "      <td>NaN</td>\n",
              "      <td>NaN</td>\n",
              "      <td>NaN</td>\n",
              "    </tr>\n",
              "    <tr>\n",
              "      <th>3</th>\n",
              "      <td>7273451a39f7c26bf981e755bf203eed58abbb97b78cf5...</td>\n",
              "      <td>2021-01</td>\n",
              "      <td>Avon and Somerset Constabulary</td>\n",
              "      <td>Avon and Somerset Constabulary</td>\n",
              "      <td>-2.515072</td>\n",
              "      <td>51.419357</td>\n",
              "      <td>On or near Stockwood Hill</td>\n",
              "      <td>E01014399</td>\n",
              "      <td>Bath and North East Somerset 001A</td>\n",
              "      <td>Burglary</td>\n",
              "      <td>Under investigation</td>\n",
              "      <td>NaN</td>\n",
              "      <td>NaN</td>\n",
              "      <td>NaN</td>\n",
              "      <td>NaN</td>\n",
              "      <td>NaN</td>\n",
              "      <td>NaN</td>\n",
              "      <td>NaN</td>\n",
              "      <td>NaN</td>\n",
              "      <td>NaN</td>\n",
              "      <td>NaN</td>\n",
              "      <td>NaN</td>\n",
              "      <td>NaN</td>\n",
              "      <td>NaN</td>\n",
              "      <td>NaN</td>\n",
              "      <td>NaN</td>\n",
              "      <td>NaN</td>\n",
              "      <td>NaN</td>\n",
              "      <td>NaN</td>\n",
              "    </tr>\n",
              "    <tr>\n",
              "      <th>4</th>\n",
              "      <td>010772379c1fcf469c8c7a074b4630b9d80b1598442b8b...</td>\n",
              "      <td>2021-01</td>\n",
              "      <td>Avon and Somerset Constabulary</td>\n",
              "      <td>Avon and Somerset Constabulary</td>\n",
              "      <td>-2.494870</td>\n",
              "      <td>51.422276</td>\n",
              "      <td>On or near Conference/Exhibition Centre</td>\n",
              "      <td>E01014399</td>\n",
              "      <td>Bath and North East Somerset 001A</td>\n",
              "      <td>Criminal damage and arson</td>\n",
              "      <td>Under investigation</td>\n",
              "      <td>NaN</td>\n",
              "      <td>NaN</td>\n",
              "      <td>NaN</td>\n",
              "      <td>NaN</td>\n",
              "      <td>NaN</td>\n",
              "      <td>NaN</td>\n",
              "      <td>NaN</td>\n",
              "      <td>NaN</td>\n",
              "      <td>NaN</td>\n",
              "      <td>NaN</td>\n",
              "      <td>NaN</td>\n",
              "      <td>NaN</td>\n",
              "      <td>NaN</td>\n",
              "      <td>NaN</td>\n",
              "      <td>NaN</td>\n",
              "      <td>NaN</td>\n",
              "      <td>NaN</td>\n",
              "      <td>NaN</td>\n",
              "    </tr>\n",
              "  </tbody>\n",
              "</table>\n",
              "</div>"
            ],
            "text/plain": [
              "                                            Crime ID  ... Rate per 1,000 people\n",
              "0                                                NaN  ...                   NaN\n",
              "1                                                NaN  ...                   NaN\n",
              "2                                                NaN  ...                   NaN\n",
              "3  7273451a39f7c26bf981e755bf203eed58abbb97b78cf5...  ...                   NaN\n",
              "4  010772379c1fcf469c8c7a074b4630b9d80b1598442b8b...  ...                   NaN\n",
              "\n",
              "[5 rows x 29 columns]"
            ]
          },
          "metadata": {
            "tags": []
          },
          "execution_count": 156
        }
      ]
    },
    {
      "cell_type": "code",
      "metadata": {
        "colab": {
          "base_uri": "https://localhost:8080/"
        },
        "id": "s2hFnTNXS_GM",
        "outputId": "c4221ce7-7ffa-440b-eed5-0c5ca7729e32"
      },
      "source": [
        "df['Crime type'].unique()"
      ],
      "execution_count": null,
      "outputs": [
        {
          "output_type": "execute_result",
          "data": {
            "text/plain": [
              "array(['Anti-social behaviour', 'Burglary', 'Criminal damage and arson',\n",
              "       'Public order', 'Violence and sexual offences', 'Other theft',\n",
              "       'Shoplifting', 'Vehicle crime', 'Drugs', 'Bicycle theft',\n",
              "       'Theft from the person', 'Robbery', 'Possession of weapons',\n",
              "       'Other crime', nan], dtype=object)"
            ]
          },
          "metadata": {
            "tags": []
          },
          "execution_count": 157
        }
      ]
    },
    {
      "cell_type": "code",
      "metadata": {
        "colab": {
          "base_uri": "https://localhost:8080/"
        },
        "id": "lesUaLsCaeZn",
        "outputId": "9fc58297-2bb0-4980-a9d1-88490b683e01"
      },
      "source": [
        "df['Ethnicity'].unique()"
      ],
      "execution_count": null,
      "outputs": [
        {
          "output_type": "execute_result",
          "data": {
            "text/plain": [
              "array([nan, 'All', 'Any other asian', 'Any other black background',\n",
              "       'Any other ethnic group',\n",
              "       'Any other mixed/multiple ethnic background',\n",
              "       'Any other white background', 'Asian', 'Bangladeshi', 'Black',\n",
              "       'Black African', 'Black Caribbean', 'Chinese', 'Indian', 'Mixed',\n",
              "       'Mixed White and Asian', 'Mixed White and Black African',\n",
              "       'Mixed White and Black Caribbean', 'Other', 'Pakistani',\n",
              "       'Unreported', 'White', 'White British', 'White Irish',\n",
              "       'Asian other', 'Black other', 'Mixed White/Asian',\n",
              "       'Mixed White/Black African', 'Mixed White/Black Caribbean',\n",
              "       'Mixed other', 'White other', 'Other inc Chinese', 'Any other',\n",
              "       'Unknown'], dtype=object)"
            ]
          },
          "metadata": {
            "tags": []
          },
          "execution_count": 158
        }
      ]
    },
    {
      "cell_type": "code",
      "metadata": {
        "colab": {
          "base_uri": "https://localhost:8080/",
          "height": 432
        },
        "id": "rLdXHsJFTcnq",
        "outputId": "81514698-ffcf-455f-d78a-1a3c9143df3f"
      },
      "source": [
        "pd.DataFrame(df['Last outcome category'].value_counts())"
      ],
      "execution_count": null,
      "outputs": [
        {
          "output_type": "execute_result",
          "data": {
            "text/html": [
              "<div>\n",
              "<style scoped>\n",
              "    .dataframe tbody tr th:only-of-type {\n",
              "        vertical-align: middle;\n",
              "    }\n",
              "\n",
              "    .dataframe tbody tr th {\n",
              "        vertical-align: top;\n",
              "    }\n",
              "\n",
              "    .dataframe thead th {\n",
              "        text-align: right;\n",
              "    }\n",
              "</style>\n",
              "<table border=\"1\" class=\"dataframe\">\n",
              "  <thead>\n",
              "    <tr style=\"text-align: right;\">\n",
              "      <th></th>\n",
              "      <th>Last outcome category</th>\n",
              "    </tr>\n",
              "  </thead>\n",
              "  <tbody>\n",
              "    <tr>\n",
              "      <th>Under investigation</th>\n",
              "      <td>150892</td>\n",
              "    </tr>\n",
              "    <tr>\n",
              "      <th>Investigation complete; no suspect identified</th>\n",
              "      <td>86337</td>\n",
              "    </tr>\n",
              "    <tr>\n",
              "      <th>Unable to prosecute suspect</th>\n",
              "      <td>53099</td>\n",
              "    </tr>\n",
              "    <tr>\n",
              "      <th>Awaiting court outcome</th>\n",
              "      <td>9077</td>\n",
              "    </tr>\n",
              "    <tr>\n",
              "      <th>Local resolution</th>\n",
              "      <td>4295</td>\n",
              "    </tr>\n",
              "    <tr>\n",
              "      <th>Offender given a caution</th>\n",
              "      <td>1558</td>\n",
              "    </tr>\n",
              "    <tr>\n",
              "      <th>Further investigation is not in the public interest</th>\n",
              "      <td>1556</td>\n",
              "    </tr>\n",
              "    <tr>\n",
              "      <th>Action to be taken by another organisation</th>\n",
              "      <td>1549</td>\n",
              "    </tr>\n",
              "    <tr>\n",
              "      <th>Formal action is not in the public interest</th>\n",
              "      <td>816</td>\n",
              "    </tr>\n",
              "    <tr>\n",
              "      <th>Further action is not in the public interest</th>\n",
              "      <td>688</td>\n",
              "    </tr>\n",
              "    <tr>\n",
              "      <th>Offender given penalty notice</th>\n",
              "      <td>684</td>\n",
              "    </tr>\n",
              "    <tr>\n",
              "      <th>Offender given a drugs possession warning</th>\n",
              "      <td>659</td>\n",
              "    </tr>\n",
              "    <tr>\n",
              "      <th>Suspect charged as part of another case</th>\n",
              "      <td>30</td>\n",
              "    </tr>\n",
              "  </tbody>\n",
              "</table>\n",
              "</div>"
            ],
            "text/plain": [
              "                                                    Last outcome category\n",
              "Under investigation                                                150892\n",
              "Investigation complete; no suspect identified                       86337\n",
              "Unable to prosecute suspect                                         53099\n",
              "Awaiting court outcome                                               9077\n",
              "Local resolution                                                     4295\n",
              "Offender given a caution                                             1558\n",
              "Further investigation is not in the public inte...                   1556\n",
              "Action to be taken by another organisation                           1549\n",
              "Formal action is not in the public interest                           816\n",
              "Further action is not in the public interest                          688\n",
              "Offender given penalty notice                                         684\n",
              "Offender given a drugs possession warning                             659\n",
              "Suspect charged as part of another case                                30"
            ]
          },
          "metadata": {
            "tags": []
          },
          "execution_count": 159
        }
      ]
    },
    {
      "cell_type": "code",
      "metadata": {
        "colab": {
          "base_uri": "https://localhost:8080/"
        },
        "id": "SyJlcFVwTjCO",
        "outputId": "8ad1b6c9-601d-4a29-8105-e9ef3c86ad4e"
      },
      "source": [
        "for col in df_all.columns:\n",
        "    print(col)\n",
        "    print('============')\n",
        "    print(df[col].describe())\n",
        "    print('------------')"
      ],
      "execution_count": null,
      "outputs": [
        {
          "output_type": "stream",
          "text": [
            "Crime ID\n",
            "============\n",
            "count                                                311240\n",
            "unique                                               308133\n",
            "top       490b595dc6eb4b0a3e1f8d7fa53d2be5460d146d8f133a...\n",
            "freq                                                     69\n",
            "Name: Crime ID, dtype: object\n",
            "------------\n",
            "Month\n",
            "============\n",
            "count      444176\n",
            "unique          1\n",
            "top       2021-01\n",
            "freq       444176\n",
            "Name: Month, dtype: object\n",
            "------------\n",
            "Reported by\n",
            "============\n",
            "count                          444176\n",
            "unique                             42\n",
            "top       Metropolitan Police Service\n",
            "freq                            84848\n",
            "Name: Reported by, dtype: object\n",
            "------------\n",
            "Falls within\n",
            "============\n",
            "count                          444176\n",
            "unique                             42\n",
            "top       Metropolitan Police Service\n",
            "freq                            84848\n",
            "Name: Falls within, dtype: object\n",
            "------------\n",
            "Longitude\n",
            "============\n",
            "count    438736.000000\n",
            "mean         -1.209627\n",
            "std           1.274231\n",
            "min          -6.318417\n",
            "25%          -2.022395\n",
            "50%          -1.209577\n",
            "75%          -0.153057\n",
            "max           1.757344\n",
            "Name: Longitude, dtype: float64\n",
            "------------\n",
            "Latitude\n",
            "============\n",
            "count    438736.000000\n",
            "mean         52.332984\n",
            "std           1.115943\n",
            "min          49.914885\n",
            "25%          51.489475\n",
            "50%          51.909787\n",
            "75%          53.280317\n",
            "max          57.517515\n",
            "Name: Latitude, dtype: float64\n",
            "------------\n",
            "Location\n",
            "============\n",
            "count                     444176\n",
            "unique                     98709\n",
            "top       On or near Supermarket\n",
            "freq                       13111\n",
            "Name: Location, dtype: object\n",
            "------------\n",
            "LSOA code\n",
            "============\n",
            "count        438667\n",
            "unique        32298\n",
            "top       E01033583\n",
            "freq            211\n",
            "Name: LSOA code, dtype: object\n",
            "------------\n",
            "LSOA name\n",
            "============\n",
            "count          438667\n",
            "unique          32298\n",
            "top       Newham 013G\n",
            "freq              211\n",
            "Name: LSOA name, dtype: object\n",
            "------------\n",
            "Crime type\n",
            "============\n",
            "count                           444176\n",
            "unique                              14\n",
            "top       Violence and sexual offences\n",
            "freq                            136454\n",
            "Name: Crime type, dtype: object\n",
            "------------\n",
            "Last outcome category\n",
            "============\n",
            "count                  311240\n",
            "unique                     13\n",
            "top       Under investigation\n",
            "freq                   150892\n",
            "Name: Last outcome category, dtype: object\n",
            "------------\n",
            "Context\n",
            "============\n",
            "count    0.0\n",
            "mean     NaN\n",
            "std      NaN\n",
            "min      NaN\n",
            "25%      NaN\n",
            "50%      NaN\n",
            "75%      NaN\n",
            "max      NaN\n",
            "Name: Context, dtype: float64\n",
            "------------\n",
            "Measure\n",
            "============\n",
            "count                109320\n",
            "unique                    1\n",
            "top       Number of arrests\n",
            "freq                 109320\n",
            "Name: Measure, dtype: object\n",
            "------------\n",
            "Time\n",
            "============\n",
            "count      109320\n",
            "unique          6\n",
            "top       2015/16\n",
            "freq        18222\n",
            "Name: Time, dtype: object\n",
            "------------\n",
            "Time_type\n",
            "============\n",
            "count             109320\n",
            "unique                 1\n",
            "top       Financial year\n",
            "freq              109320\n",
            "Name: Time_type, dtype: object\n",
            "------------\n",
            "Ethnicity\n",
            "============\n",
            "count     109343\n",
            "unique        33\n",
            "top        White\n",
            "freq        4757\n",
            "Name: Ethnicity, dtype: object\n",
            "------------\n",
            "Ethnicity_type\n",
            "============\n",
            "count            109320\n",
            "unique                4\n",
            "top       ONS 2001 16+1\n",
            "freq              76032\n",
            "Name: Ethnicity_type, dtype: object\n",
            "------------\n",
            "Gender\n",
            "============\n",
            "count     109320\n",
            "unique         3\n",
            "top          All\n",
            "freq       36456\n",
            "Name: Gender, dtype: object\n",
            "------------\n",
            "Gender_type\n",
            "============\n",
            "count          109320\n",
            "unique              1\n",
            "top       Male/Female\n",
            "freq           109320\n",
            "Name: Gender_type, dtype: object\n",
            "------------\n",
            "Age_Group\n",
            "============\n",
            "count     109320\n",
            "unique         6\n",
            "top          All\n",
            "freq       18240\n",
            "Name: Age_Group, dtype: object\n",
            "------------\n",
            "Age_Group_type\n",
            "============\n",
            "count                          109320\n",
            "unique                              1\n",
            "top       Arrest age group categories\n",
            "freq                           109320\n",
            "Name: Age_Group_type, dtype: object\n",
            "------------\n",
            "Geography\n",
            "============\n",
            "count          109320\n",
            "unique             45\n",
            "top       North Wales\n",
            "freq             2484\n",
            "Name: Geography, dtype: object\n",
            "------------\n",
            "Geography_type\n",
            "============\n",
            "count                109320\n",
            "unique                    1\n",
            "top       Police Force Area\n",
            "freq                 109320\n",
            "Name: Geography_type, dtype: object\n",
            "------------\n",
            "Number of arrests\n",
            "============\n",
            "count     106499\n",
            "unique      6812\n",
            "top            -\n",
            "freq       38714\n",
            "Name: Number of arrests, dtype: object\n",
            "------------\n",
            "Population by ethnicity, gender, and PFA (based on 2011 Census)\n",
            "============\n",
            "count                            108132\n",
            "unique                             2657\n",
            "top       N/A for individual age groups\n",
            "freq                              91080\n",
            "Name: Population by ethnicity, gender, and PFA (based on 2011 Census), dtype: object\n",
            "------------\n",
            "Rate per 1,000 population by ethnicity, gender, and PFA\n",
            "============\n",
            "count                            107664\n",
            "unique                             5764\n",
            "top       N/A for individual age groups\n",
            "freq                              91080\n",
            "Name: Rate per 1,000 population by ethnicity, gender, and PFA, dtype: object\n",
            "------------\n",
            "Proportion of arrests of this ethnicity, in this year, of this gender and in this police force area (excludes unreported)\n",
            "============\n",
            "count                            108036\n",
            "unique                              638\n",
            "top       N/A for individual age groups\n",
            "freq                              91080\n",
            "Name: Proportion of arrests of this ethnicity, in this year, of this gender and in this police force area (excludes unreported), dtype: object\n",
            "------------\n",
            "Notes\n",
            "============\n",
            "count                                                  3812\n",
            "unique                                                    6\n",
            "top       This force could not supply detailed ethnicity...\n",
            "freq                                                   1764\n",
            "Name: Notes, dtype: object\n",
            "------------\n",
            "Rate per 1,000 people\n",
            "============\n",
            "count    22.000000\n",
            "mean     17.954545\n",
            "std      12.834022\n",
            "min       3.000000\n",
            "25%      12.000000\n",
            "50%      14.500000\n",
            "75%      20.250000\n",
            "max      64.000000\n",
            "Name: Rate per 1,000 people, dtype: float64\n",
            "------------\n"
          ],
          "name": "stdout"
        }
      ]
    },
    {
      "cell_type": "code",
      "metadata": {
        "id": "2dj0FjZ8w17d"
      },
      "source": [
        "df.Make.value_counts().nlargest(40).plot(kind='bar', figsize=(10,5))\n",
        "plt.title(\"Race arrest rate\")\n",
        "plt.ylabel('Rate per 1,000 people')\n",
        "plt.xlabel('Ethnicity');"
      ],
      "execution_count": null,
      "outputs": []
    }
  ]
}